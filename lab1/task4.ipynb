{
 "cells": [
  {
   "cell_type": "code",
   "execution_count": 1,
   "metadata": {},
   "outputs": [],
   "source": [
    "from __future__ import division\n",
    "import numpy as np\n",
    "import matplotlib.pyplot as plt\n",
    "from sklearn import datasets\n",
    "from sklearn.model_selection import train_test_split"
   ]
  },
  {
   "cell_type": "code",
   "execution_count": 2,
   "metadata": {},
   "outputs": [],
   "source": [
    "def make_meshgrid(x, y, h=.02):\n",
    "    d = 5\n",
    "    x_min, x_max = x.min() - d, x.max() + d\n",
    "    y_min, y_max = y.min() - d, y.max() + d\n",
    "    xx, yy = np.meshgrid(np.arange(x_min, x_max, h),\n",
    "                         np.arange(y_min, y_max, h))\n",
    "    return xx, yy\n",
    "\n",
    "def plot_contours(clf, xx, yy, **params):\n",
    "    Z = clf.predict(np.c_[xx.ravel(), yy.ravel()])\n",
    "    Z = Z.reshape(xx.shape)\n",
    "    out = plt.contourf(xx, yy, Z, **params)\n",
    "    return out"
   ]
  },
  {
   "cell_type": "code",
   "execution_count": 3,
   "metadata": {},
   "outputs": [],
   "source": [
    "class QDA():\n",
    "\n",
    "    def __init__(\n",
    "        self, *, priors=None, reg_param=0.0, store_covariance=False, tol=1.0e-4\n",
    "    ):\n",
    "        self.priors = priors # pi-coefficients in discriminant analysis decision function\n",
    "        self.reg_param = reg_param  # regression parameter\n",
    "        self.store_covariance = store_covariance\n",
    "        self.tol = tol\n",
    "\n",
    "    def fit(self, X, y):\n",
    "        self.classes_, y = np.unique(y, return_inverse=True) # also returns indexes to match input array\n",
    "        n_samples, n_features = X.shape\n",
    "        n_classes = len(self.classes_)\n",
    "        if n_classes < 2:\n",
    "            raise ValueError(\n",
    "                \"The number of classes has to be greater than one; got %d class\"\n",
    "                % (n_classes)\n",
    "            )\n",
    "        if self.priors is None:\n",
    "            # bincount is histogram analog (makes interger interval from min to max and count corresponding numbers)\n",
    "            self.priors_ = np.bincount(y) / float(n_samples) \n",
    "        else:\n",
    "            self.priors_ = np.array(self.priors)\n",
    "\n",
    "        cov = None\n",
    "        store_covariance = self.store_covariance\n",
    "        if store_covariance:\n",
    "            cov = []\n",
    "        # studying parameters\n",
    "        means = []\n",
    "        scalings = []\n",
    "        rotations = []\n",
    "        for ind in range(n_classes):\n",
    "            Xg = X[y == ind, :]\n",
    "            meang = Xg.mean(0)\n",
    "            means.append(meang)\n",
    "            if len(Xg) == 1:\n",
    "                raise ValueError(\n",
    "                    \"y has only 1 sample in class %s, covariance is ill defined.\"\n",
    "                    % str(self.classes_[ind])\n",
    "                )\n",
    "            Xgc = Xg - meang\n",
    "            # Xgc = U * S * V.T\n",
    "            _, S, Vt = np.linalg.svd(Xgc, full_matrices=False) # Singular Value Decomposition of Xgc\n",
    "            rank = np.sum(S > self.tol)\n",
    "            if rank < n_features:\n",
    "                print(\"Variables are collinear\")\n",
    "            S2 = (S**2) / (len(Xg) - 1)\n",
    "            S2 = ((1 - self.reg_param) * S2) + self.reg_param\n",
    "            if self.store_covariance or store_covariance:\n",
    "                # cov = V * (S^2 / (n-1)) * V.T\n",
    "                cov.append(np.dot(S2 * Vt.T, Vt))\n",
    "            scalings.append(S2)\n",
    "            rotations.append(Vt.T)\n",
    "        if self.store_covariance or store_covariance:\n",
    "            self.covariance_ = cov\n",
    "        self.means_ = np.asarray(means)\n",
    "        self.scalings_ = scalings\n",
    "        self.rotations_ = rotations\n",
    "        return self\n",
    "\n",
    "    def _decision_function(self, X):\n",
    "        norm2 = []\n",
    "        for i in range(len(self.classes_)):\n",
    "            R = self.rotations_[i]\n",
    "            S = self.scalings_[i]\n",
    "            Xm = X - self.means_[i]\n",
    "            X2 = np.dot(Xm, R * (S ** (-0.5)))\n",
    "            norm2.append(np.sum(X2**2, axis=1))\n",
    "        norm2 = np.array(norm2).T  # shape = [len(X), n_classes]\n",
    "        u = np.asarray([np.sum(np.log(s)) for s in self.scalings_])\n",
    "        return -0.5 * (norm2 + u) + np.log(self.priors_)\n",
    "\n",
    "    def decision_function(self, X):\n",
    "        dec_func = self._decision_function(X)\n",
    "        # handle special case of two classes\n",
    "        if len(self.classes_) == 2:\n",
    "            return dec_func[:, 1] - dec_func[:, 0]\n",
    "        return dec_func\n",
    "\n",
    "    def predict(self, X):\n",
    "        d = self._decision_function(X)\n",
    "        y_pred = self.classes_.take(d.argmax(1))\n",
    "        return y_pred"
   ]
  },
  {
   "cell_type": "code",
   "execution_count": 4,
   "metadata": {},
   "outputs": [],
   "source": [
    "iris = datasets.load_iris()\n",
    "X = iris.data[iris.target != 2][:, :2]  # sepal length, width\n",
    "y = iris.target[iris.target != 2]\n",
    "\n",
    "X_train, X_test, y_train, y_test = train_test_split(X, y, test_size=0.2, random_state=1)"
   ]
  },
  {
   "cell_type": "code",
   "execution_count": 5,
   "metadata": {},
   "outputs": [
    {
     "name": "stdout",
     "output_type": "stream",
     "text": [
      "[ True  True  True  True  True  True  True  True  True  True  True  True\n",
      "  True  True  True  True  True  True  True  True]\n"
     ]
    }
   ],
   "source": [
    "clf = QDA()\n",
    "clf.fit(X_train, y_train)\n",
    "preds = clf.predict(X_test)\n",
    "print(preds == y_test)"
   ]
  },
  {
   "cell_type": "code",
   "execution_count": 6,
   "metadata": {},
   "outputs": [
    {
     "data": {
      "text/plain": [
       "Text(0.5, 1.0, 'QDA')"
      ]
     },
     "execution_count": 6,
     "metadata": {},
     "output_type": "execute_result"
    },
    {
     "data": {
      "image/png": "[encoded data removed]",
      "text/plain": [
       "<Figure size 640x480 with 1 Axes>"
      ]
     },
     "metadata": {},
     "output_type": "display_data"
    }
   ],
   "source": [
    "X0, X1 = X[:, 0], X[:, 1]\n",
    "xx, yy = make_meshgrid(X0, X1)\n",
    "\n",
    "plot_contours(clf, xx, yy,\n",
    "                  cmap=plt.cm.coolwarm, alpha=0.8)\n",
    "plt.scatter(X0, X1, c=y, cmap=plt.cm.coolwarm, s=20, edgecolors='k')\n",
    "plt.xlim(xx.min(), xx.max())\n",
    "plt.ylim(yy.min(), yy.max())\n",
    "plt.xlabel('Sepal length')\n",
    "plt.ylabel('Sepal width')\n",
    "plt.title(\"QDA\")"
   ]
  }
 ],
 "metadata": {
  "kernelspec": {
   "display_name": "Python 3",
   "language": "python",
   "name": "python3"
  },
  "language_info": {
   "codemirror_mode": {
    "name": "ipython",
    "version": 3
   },
   "file_extension": ".py",
   "mimetype": "text/x-python",
   "name": "python",
   "nbconvert_exporter": "python",
   "pygments_lexer": "ipython3",
   "version": "3.9.12"
  },
  "orig_nbformat": 4
 },
 "nbformat": 4,
 "nbformat_minor": 2
}
